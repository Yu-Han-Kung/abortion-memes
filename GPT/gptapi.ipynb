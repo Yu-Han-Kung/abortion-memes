{
 "cells": [
  {
   "cell_type": "code",
   "execution_count": null,
   "id": "d4db9a9b",
   "metadata": {},
   "outputs": [],
   "source": [
    "#資料夾的所有圖片用GPT摘要兩句話，個別存成txt\n",
    "import os\n",
    "import base64\n",
    "import openai\n",
    "\n",
    "#我的API key\n",
    "openai.api_key = '你的api key'\n",
    "\n",
    "# 读取图片并转为base64编码\n",
    "def image_to_base64(image_path):\n",
    "    with open(image_path, \"rb\") as img_file:\n",
    "        encoded_string = base64.b64encode(img_file.read()).decode(\"utf-8\")\n",
    "    return encoded_string\n",
    "\n",
    "# 描述图片\n",
    "def describe_image(image_path):\n",
    "    base64_image = image_to_base64(image_path)\n",
    "    response = openai.ChatCompletion.create(\n",
    "        model=\"gpt-4-turbo\",\n",
    "        temperature=0,\n",
    "        messages=[\n",
    "            {\n",
    "                \"role\": \"user\",\n",
    "                \"content\": [\n",
    "                    {\"type\": \"text\", \n",
    "                     \"text\": \"你要跟GPT說的話(用chatgpt打在輸入框的東西)\"},\n",
    "                    {\n",
    "                        \"type\": \"image_url\",\n",
    "                        \"image_url\": {\"url\": f\"data:image/png;base64,{base64_image}\"}\n",
    "                    },\n",
    "                ],\n",
    "            }\n",
    "        ],\n",
    "        max_tokens=300,\n",
    "    )\n",
    "    return response.choices[0].message.content\n",
    "\n",
    "# 图片文件夹路径\n",
    "folder_path = \"redditall/reddit\"\n",
    "# 遍历文件夹中的所有jpg图片\n",
    "for filename in os.listdir(folder_path):\n",
    "    try:\n",
    "        if filename.endswith(('.png', '.jpg', '.jpeg')):\n",
    "            image_path = os.path.join(folder_path, filename)\n",
    "            description = describe_image(image_path)\n",
    "            print(description)\n",
    "\n",
    "            # 将描述保存到文本文件\n",
    "            output_path = image_path.split('.')[0] + '.txt'\n",
    "            with open(output_path, 'w', encoding='utf-8') as f:\n",
    "                f.write(description)\n",
    "    except Exception as e:\n",
    "        print(e)\n",
    "        "
   ]
  }
 ],
 "metadata": {
  "kernelspec": {
   "display_name": "Python 3 (ipykernel)",
   "language": "python",
   "name": "python3"
  },
  "language_info": {
   "codemirror_mode": {
    "name": "ipython",
    "version": 3
   },
   "file_extension": ".py",
   "mimetype": "text/x-python",
   "name": "python",
   "nbconvert_exporter": "python",
   "pygments_lexer": "ipython3",
   "version": "3.11.5"
  }
 },
 "nbformat": 4,
 "nbformat_minor": 5
}
